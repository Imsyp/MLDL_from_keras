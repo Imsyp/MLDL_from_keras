{
  "nbformat": 4,
  "nbformat_minor": 0,
  "metadata": {
    "colab": {
      "provenance": []
    },
    "kernelspec": {
      "name": "python3",
      "display_name": "Python 3"
    },
    "language_info": {
      "name": "python"
    }
  },
  "cells": [
    {
      "cell_type": "code",
      "source": [
        "import numpy\n",
        "import keras"
      ],
      "metadata": {
        "id": "kIU7mLR0jnfG"
      },
      "execution_count": null,
      "outputs": []
    },
    {
      "cell_type": "code",
      "execution_count": null,
      "metadata": {
        "colab": {
          "base_uri": "https://localhost:8080/"
        },
        "id": "VZdu7T8Si_8G",
        "outputId": "b78b5cd9-eea0-450b-c261-1cb35eaddea7"
      },
      "outputs": [
        {
          "output_type": "execute_result",
          "data": {
            "text/plain": [
              "<keras.layers.core.dense.Dense at 0x7b7fa7859930>"
            ]
          },
          "metadata": {},
          "execution_count": 3
        }
      ],
      "source": [
        "keras.layers.Dense(512, activation='relu')"
      ]
    },
    {
      "cell_type": "markdown",
      "source": [
        "케라스의 층"
      ],
      "metadata": {
        "id": "mnkolOd-qJ9y"
      }
    },
    {
      "cell_type": "code",
      "source": [
        "def native_relu(x):\n",
        "  assert len(x.shape) == 2\n",
        "\n",
        "  x = x.copy()\n",
        "  for i in range(x.shape[0]):\n",
        "    for j in range(x.shape[1]):\n",
        "      x[i, j] = max(x[i, j], 0)\n",
        "  return 0"
      ],
      "metadata": {
        "id": "DPphEk5VjYRI"
      },
      "execution_count": null,
      "outputs": []
    },
    {
      "cell_type": "markdown",
      "source": [
        "2차원 넘파이 배열 x의 각 element에 relu 연산 적용  "
      ],
      "metadata": {
        "id": "G-2D7AA8qUzk"
      }
    },
    {
      "cell_type": "code",
      "source": [
        "def native_add(x, y):\n",
        "  assert len(x.shape) == 2\n",
        "  assert x.shape == y.shape\n",
        "\n",
        "  x = x.copy()\n",
        "  for i in range(x.shape[0]):\n",
        "                 for j in range(x.shape[1]):\n",
        "                  x[i, j] += y[i, j]\n",
        "  return 0"
      ],
      "metadata": {
        "id": "p8pgbTpIjbqS"
      },
      "execution_count": null,
      "outputs": []
    },
    {
      "cell_type": "markdown",
      "source": [
        "각 elelment에 add 연산 적용"
      ],
      "metadata": {
        "id": "pJ6_gjzXq7a2"
      }
    },
    {
      "cell_type": "code",
      "source": [
        "import numpy as np"
      ],
      "metadata": {
        "id": "_vNSG33nrE9G"
      },
      "execution_count": null,
      "outputs": []
    },
    {
      "cell_type": "markdown",
      "source": [
        "z = x + y // 원소별 덧셈\n",
        "z = np.maximun(z, 0) // 원소별 렐루 함수"
      ],
      "metadata": {
        "id": "IZ9zEi4KrOxg"
      }
    },
    {
      "cell_type": "code",
      "source": [
        "def native_add_matrix_and_vector(x, y):\n",
        "  assert len(x.shape) == 2\n",
        "  assert len(y.shape) == 1\n",
        "  assert x.shape[1] == y.shape[0]\n",
        "\n",
        "  x = x.copy()\n",
        "  for i in range(x.shape[0]):\n",
        "    for j in range(x.shape[1]):\n",
        "      x[i, j] += y[j]\n",
        "  return 0"
      ],
      "metadata": {
        "id": "sn7DrgsyrE07"
      },
      "execution_count": null,
      "outputs": []
    },
    {
      "cell_type": "code",
      "source": [
        "import numpy as np"
      ],
      "metadata": {
        "id": "vsm_jNq5rLir"
      },
      "execution_count": null,
      "outputs": []
    },
    {
      "cell_type": "code",
      "source": [
        "x = np.random.random((64, 3, 32, 10))\n",
        "y = np.random.random((32, 10))\n",
        "\n",
        "z = np.maximum(x, y)"
      ],
      "metadata": {
        "id": "q6JdElYQu067"
      },
      "execution_count": null,
      "outputs": []
    },
    {
      "cell_type": "code",
      "source": [
        "random_number1 = np.random.random()\n",
        "random_number2 = np.random.rand()\n",
        "print(random_number1)\n",
        "print(random_number2)"
      ],
      "metadata": {
        "colab": {
          "base_uri": "https://localhost:8080/"
        },
        "id": "KkOf6L3rwBWS",
        "outputId": "c2027baa-1295-4772-8196-708d5dcc6096"
      },
      "execution_count": null,
      "outputs": [
        {
          "output_type": "stream",
          "name": "stdout",
          "text": [
            "0.7533300201328258\n",
            "0.8221995441628676\n"
          ]
        }
      ]
    },
    {
      "cell_type": "code",
      "source": [
        "def native_vector_dot(x, y):\n",
        "  assert len(x.shape) == 1\n",
        "  assert len(y.shape) == 1\n",
        "  assert x.shape[0] == y.shape[0]\n",
        "\n",
        "  z = 0.\n",
        "  for i in range(x.shape[0]):\n",
        "    z += x[i] * y[i]\n",
        "  return z"
      ],
      "metadata": {
        "id": "JQWzRJVUwB34"
      },
      "execution_count": null,
      "outputs": []
    },
    {
      "cell_type": "code",
      "source": [
        "import numpy as np\n",
        "def native_matrix_vector_dot(x, y):\n",
        "  assert len(x.shape) == 2\n",
        "  assert len(y.shpae) == 1\n",
        "  assert x.shape[1] == y.shape[0]\n",
        "\n",
        "  z = np.zeros(x.shape[0])\n",
        "  for i in range(x.shape[0]):\n",
        "    for j in range(x.shape[1]):\n",
        "      z[i] += x [i, j] * y[j]\n",
        "  return z"
      ],
      "metadata": {
        "id": "TIuVWgzGyKe-"
      },
      "execution_count": null,
      "outputs": []
    }
  ]
}